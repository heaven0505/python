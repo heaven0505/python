{
  "nbformat": 4,
  "nbformat_minor": 0,
  "metadata": {
    "colab": {
      "name": "Chap3.ipynb",
      "provenance": [],
      "collapsed_sections": []
    },
    "kernelspec": {
      "name": "python3",
      "display_name": "Python 3"
    },
    "language_info": {
      "name": "python"
    }
  },
  "cells": [
    {
      "cell_type": "markdown",
      "source": [
        "#Python物件"
      ],
      "metadata": {
        "id": "_A2uZcuKAINQ"
      }
    },
    {
      "cell_type": "markdown",
      "source": [
        "##List[串列] Tuple(元組) Dictionary{字典} Sets{集合}"
      ],
      "metadata": {
        "id": "j0BHjN9hDZNn"
      }
    },
    {
      "cell_type": "markdown",
      "source": [
        "##List[串列]"
      ],
      "metadata": {
        "id": "5A_0XbYHDeBj"
      }
    },
    {
      "cell_type": "markdown",
      "source": [
        "使用中括號[]包裹元素"
      ],
      "metadata": {
        "id": "oh2t76juDgsP"
      }
    },
    {
      "cell_type": "code",
      "source": [
        "expenses = [1138, 101, 12, 300, 2049]\n",
        "print(sum(expenses))"
      ],
      "metadata": {
        "colab": {
          "base_uri": "https://localhost:8080/"
        },
        "id": "QTAW5iPbDw-b",
        "outputId": "18cef849-9ddd-401e-d555-9984b556b9e2"
      },
      "execution_count": null,
      "outputs": [
        {
          "output_type": "stream",
          "name": "stdout",
          "text": [
            "3600\n"
          ]
        }
      ]
    },
    {
      "cell_type": "markdown",
      "source": [
        "##索引"
      ],
      "metadata": {
        "id": "IhoS6F4hD_L3"
      }
    },
    {
      "cell_type": "code",
      "source": [
        "expenses = [1138, 101, 12, 300, 2049]\n",
        "print(expenses[0]) #索引從0開始\n",
        "print(expenses[1])\n",
        "print(expenses[-1]) #倒數第一個\n",
        "print(expenses[-2])"
      ],
      "metadata": {
        "colab": {
          "base_uri": "https://localhost:8080/"
        },
        "id": "J4guZM9WELtc",
        "outputId": "4acad985-13bd-462b-84c0-4e899a7a41fd"
      },
      "execution_count": null,
      "outputs": [
        {
          "output_type": "stream",
          "name": "stdout",
          "text": [
            "1138\n",
            "101\n",
            "2049\n",
            "300\n"
          ]
        }
      ]
    },
    {
      "cell_type": "code",
      "source": [
        "my_list0=[]  #空串列\n",
        "print(my_list0)\n",
        "my_list1=list()\n",
        "my_list2=['python','javascript','c#']\n",
        "print(my_list2)\n",
        "print(len(my_list2)) #len:計算list的長度\n",
        "print(my_list2[2])"
      ],
      "metadata": {
        "id": "KTpWbRlEESaq"
      },
      "execution_count": null,
      "outputs": []
    },
    {
      "cell_type": "markdown",
      "source": [
        "##list的長度"
      ],
      "metadata": {
        "id": "LAfKI0hDEVhk"
      }
    },
    {
      "cell_type": "code",
      "source": [
        "my_list2 = ['python', 'javascript', 'C#']\n",
        "print(len(my_list2))\n",
        "print(len(my_list2[0]))"
      ],
      "metadata": {
        "colab": {
          "base_uri": "https://localhost:8080/"
        },
        "id": "alQpn7frEY-5",
        "outputId": "9e968bdf-8858-449d-f46f-30f5fe78d9f0"
      },
      "execution_count": null,
      "outputs": [
        {
          "output_type": "stream",
          "name": "stdout",
          "text": [
            "3\n",
            "6\n"
          ]
        }
      ]
    },
    {
      "cell_type": "code",
      "source": [
        "my_list2=['python','javascript','c#']\n",
        "my_list2.append('java') #append:附加在最後面\n",
        "print(my_list2)\n",
        "my_list2.remove('java') #remove:移除\n",
        "print(my_list2)\n",
        "my_list2.insert(0,'java') #insert:插入物件,需要指定索引位置\n",
        "print(my_list2)\n",
        "my_list2.clear() #clear:清除所有物件\n",
        "print(my_list2)"
      ],
      "metadata": {
        "colab": {
          "base_uri": "https://localhost:8080/"
        },
        "id": "VbsO8MHAEhIT",
        "outputId": "611f2bc7-c627-4866-bf6a-d00340eaca3f"
      },
      "execution_count": null,
      "outputs": [
        {
          "output_type": "stream",
          "name": "stdout",
          "text": [
            "['python', 'javascript', 'c#', 'java']\n",
            "['python', 'javascript', 'c#']\n",
            "['java', 'python', 'javascript', 'c#']\n",
            "[]\n"
          ]
        }
      ]
    },
    {
      "cell_type": "markdown",
      "source": [
        "##list取值"
      ],
      "metadata": {
        "id": "OqTdt29NEo5S"
      }
    },
    {
      "cell_type": "code",
      "source": [
        "a=[1,2,3,4,5,6,7,8,9]\n",
        "b=a[0:3] #範圍取值，0,1,2不包含3\n",
        "print(b)\n",
        "c=a[0:9:2] #間隔2取值\n",
        "print(c)\n",
        "d = a[0: ]\n",
        "print(d)\n",
        "e = a[ :9]\n",
        "print(e)\n",
        "f = a[:] #取全部值\n",
        "print(f)"
      ],
      "metadata": {
        "colab": {
          "base_uri": "https://localhost:8080/"
        },
        "id": "OfBGdGJGEsK9",
        "outputId": "39b69509-4928-4854-a9f1-fa9f6fceb465"
      },
      "execution_count": null,
      "outputs": [
        {
          "output_type": "stream",
          "name": "stdout",
          "text": [
            "[1, 2, 3]\n",
            "[1, 3, 5, 7, 9]\n",
            "[1, 2, 3, 4, 5, 6, 7, 8, 9]\n",
            "[1, 2, 3, 4, 5, 6, 7, 8, 9]\n",
            "[1, 2, 3, 4, 5, 6, 7, 8, 9]\n"
          ]
        }
      ]
    },
    {
      "cell_type": "code",
      "source": [
        "a=[1,2,3,4,5,6,7,8,9]\n",
        "del a[7:9] #刪除某範圍值, 7, 8\n",
        "print(a)\n",
        "print(min(a)) #最小值\n",
        "print(max(a)) #最大值\n",
        "print(a.index(1)) #找出1所在的第一個索引值\n",
        "b=[1,0,0,1,1,1]\n",
        "print(b.count(1)) #1出現的次數\n",
        "a.reverse() #串列反轉\n",
        "print(a)\n",
        "a.sort() #串列由小到大排序,a的值會被改變\n",
        "print(a)"
      ],
      "metadata": {
        "id": "gzRRFrPyE01r",
        "outputId": "a50ce113-a192-49a1-fa61-baa544947879",
        "colab": {
          "base_uri": "https://localhost:8080/"
        }
      },
      "execution_count": null,
      "outputs": [
        {
          "output_type": "stream",
          "name": "stdout",
          "text": [
            "[1, 2, 3, 4, 5, 6, 7]\n",
            "1\n",
            "7\n",
            "0\n",
            "4\n",
            "[7, 6, 5, 4, 3, 2, 1]\n",
            "[1, 2, 3, 4, 5, 6, 7]\n"
          ]
        }
      ]
    }
  ]
}