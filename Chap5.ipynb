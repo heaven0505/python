{
  "nbformat": 4,
  "nbformat_minor": 0,
  "metadata": {
    "colab": {
      "name": "Chap5.ipynb",
      "provenance": [],
      "collapsed_sections": []
    },
    "kernelspec": {
      "name": "python3",
      "display_name": "Python 3"
    },
    "language_info": {
      "name": "python"
    }
  },
  "cells": [
    {
      "cell_type": "markdown",
      "source": [
        "##函式"
      ],
      "metadata": {
        "id": "LNYcgmDPIOwf"
      }
    },
    {
      "cell_type": "markdown",
      "source": [
        "\n",
        "\n",
        "*   獨立出來的程式組\n",
        "*   可以接收傳入值(多個)\n",
        "*   輸出回傳值(一個)\n",
        "\n",
        "\n",
        "\n",
        "\n"
      ],
      "metadata": {
        "id": "Rii8NHBqIXU0"
      }
    },
    {
      "cell_type": "code",
      "source": [
        "#傳統寫法\n",
        "import math\n",
        "radius = eval(input(\"請輸入圓的半徑：\")) #把輸入的字串變成數學計算型態\n",
        "print(\"圓的面積為：\", radius * radius * math.pi)"
      ],
      "metadata": {
        "colab": {
          "base_uri": "https://localhost:8080/"
        },
        "id": "j_R7tGRjIpGj",
        "outputId": "7560d92c-a51c-44ac-e3dc-52ac00188549"
      },
      "execution_count": null,
      "outputs": [
        {
          "output_type": "stream",
          "name": "stdout",
          "text": [
            "請輸入圓的半徑：10\n",
            "圓的面積為： 314.1592653589793\n"
          ]
        }
      ]
    },
    {
      "cell_type": "markdown",
      "source": [
        "##面積計算函示"
      ],
      "metadata": {
        "id": "sgRcWjcPI9sK"
      }
    },
    {
      "cell_type": "code",
      "source": [
        "import math\n",
        "def circle_area(radius):\n",
        "    area = radius * radius * math.pi\n",
        "    return area\n",
        "\n",
        "print(\"半徑10,圓面積為:\",circle_area(10))\n",
        "print(\"半徑5,圓面積為:\",circle_area(5))\n",
        "print(\"半徑20,圓面積為:\",circle_area(20))\n"
      ],
      "metadata": {
        "colab": {
          "base_uri": "https://localhost:8080/"
        },
        "id": "HEfyV2iKJHWv",
        "outputId": "af6ce080-4485-4848-bcbf-feb91c2ed34a"
      },
      "execution_count": null,
      "outputs": [
        {
          "output_type": "stream",
          "name": "stdout",
          "text": [
            "半徑10,圓面積為: 314.1592653589793\n",
            "半徑5,圓面積為: 78.53981633974483\n",
            "半徑20,圓面積為: 1256.6370614359173\n"
          ]
        }
      ]
    }
  ]
}