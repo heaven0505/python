{
  "nbformat": 4,
  "nbformat_minor": 0,
  "metadata": {
    "colab": {
      "name": "Chap6.ipynb",
      "provenance": [],
      "collapsed_sections": []
    },
    "kernelspec": {
      "name": "python3",
      "display_name": "Python 3"
    },
    "language_info": {
      "name": "python"
    }
  },
  "cells": [
    {
      "cell_type": "markdown",
      "source": [
        "#Chap6 檔案文件\n"
      ],
      "metadata": {
        "id": "AcfNY22kJ-lS"
      }
    },
    {
      "cell_type": "markdown",
      "source": [
        "os套件：用來處理文件與目錄，與檔案相關操作\n",
        "\n"
      ],
      "metadata": {
        "id": "6dyzvhTWKBue"
      }
    },
    {
      "cell_type": "code",
      "source": [
        "import os\n",
        "print(os.getcwd()) #獲取目前工作目錄"
      ],
      "metadata": {
        "colab": {
          "base_uri": "https://localhost:8080/"
        },
        "id": "4QhBxuGbKFnX",
        "outputId": "10358934-ee2b-4a30-ef31-76e10c6b46bd"
      },
      "execution_count": null,
      "outputs": [
        {
          "output_type": "stream",
          "name": "stdout",
          "text": [
            "/content\n"
          ]
        }
      ]
    },
    {
      "cell_type": "code",
      "source": [
        "print(os.listdir()) #顯示目前目錄下所有檔案及子目錄"
      ],
      "metadata": {
        "colab": {
          "base_uri": "https://localhost:8080/"
        },
        "id": "TlTk9s8nKNXq",
        "outputId": "6bd3de82-4a36-40df-8a2d-e60ceaf97e21"
      },
      "execution_count": null,
      "outputs": [
        {
          "output_type": "stream",
          "name": "stdout",
          "text": [
            "['.config', 'sample_data']\n"
          ]
        }
      ]
    },
    {
      "cell_type": "code",
      "source": [
        "os.makedirs(\"test\") #在目前目錄下,建立一個名為\"test\"的目錄\n",
        "os.listdir()"
      ],
      "metadata": {
        "colab": {
          "base_uri": "https://localhost:8080/"
        },
        "id": "PWUz35S0KkXm",
        "outputId": "13b8129a-06ea-4a9c-c779-24cc70f87b78"
      },
      "execution_count": null,
      "outputs": [
        {
          "output_type": "execute_result",
          "data": {
            "text/plain": [
              "['.config', 'test', 'sample_data']"
            ]
          },
          "metadata": {},
          "execution_count": 3
        }
      ]
    },
    {
      "cell_type": "code",
      "source": [
        "os.rmdir(\"test\") #刪除test目錄\n",
        "os.listdir()"
      ],
      "metadata": {
        "colab": {
          "base_uri": "https://localhost:8080/"
        },
        "id": "i9aJi41QKmdx",
        "outputId": "e1036d48-4101-49ff-d888-ba6909cf58a5"
      },
      "execution_count": null,
      "outputs": [
        {
          "output_type": "execute_result",
          "data": {
            "text/plain": [
              "['.config', 'sample_data']"
            ]
          },
          "metadata": {},
          "execution_count": 4
        }
      ]
    },
    {
      "cell_type": "markdown",
      "source": [
        "###檔案的開啟跟寫入"
      ],
      "metadata": {
        "id": "q2cqN8xSKnjo"
      }
    },
    {
      "cell_type": "markdown",
      "source": [
        "os套件有自己的開啟檔案函示open，但是**MTA認證採用的是python內建的open**\n",
        "*   w = 可寫(預設建立檔案) 若檔案存在則會清除舊檔案\n",
        "*   w+ = 可寫可讀(預設建立檔案) 若檔案存在則會清除舊檔案\n",
        "*   r = 可讀\n",
        "*   r+ = 可寫可讀 但寫入資料指向開頭\n",
        "*   a = 可寫不能讀 寫入資料指向尾端\n",
        "*   a+ = 可寫可讀 寫入資料指向尾端\n",
        "*   b = 轉為2進位文件\n",
        "*   ab+ = 2進位文件的讀寫 寫入資料指向尾端\n",
        "\n",
        "\n",
        "\n"
      ],
      "metadata": {
        "id": "MF8CW4R-Krxn"
      }
    },
    {
      "cell_type": "code",
      "source": [
        "#a=open()  #python內建開檔\n",
        "#a=os.open()  #os套件的開檔"
      ],
      "metadata": {
        "id": "i8enTpftL-xF"
      },
      "execution_count": null,
      "outputs": []
    },
    {
      "cell_type": "markdown",
      "source": [
        "### 新增檔案"
      ],
      "metadata": {
        "id": "D01-UV-BMIRo"
      }
    },
    {
      "cell_type": "code",
      "source": [
        "a=open(\"a.txt\",\"w\") #新增檔案\n",
        "a.write(\"This is a test1\")\n",
        "a.write(\"This is a test2\\n\")\n",
        "a.write(\"This is a test3\\n\")\n",
        "a.close() #關閉檔案"
      ],
      "metadata": {
        "id": "diPQI2PXMQNA"
      },
      "execution_count": null,
      "outputs": []
    },
    {
      "cell_type": "markdown",
      "source": [
        "###檢查檔案是否存在\n"
      ],
      "metadata": {
        "id": "SmvHphfUMQ-d"
      }
    },
    {
      "cell_type": "code",
      "source": [
        "os.path.isfile(\"a.txt\")\n"
      ],
      "metadata": {
        "colab": {
          "base_uri": "https://localhost:8080/"
        },
        "id": "SvoqAqntMTVP",
        "outputId": "c61bec2f-bcf8-4481-8305-a01f4af0b025"
      },
      "execution_count": null,
      "outputs": [
        {
          "output_type": "execute_result",
          "data": {
            "text/plain": [
              "False"
            ]
          },
          "metadata": {},
          "execution_count": 5
        }
      ]
    },
    {
      "cell_type": "markdown",
      "source": [
        "### 讀取檔案"
      ],
      "metadata": {
        "id": "wRXCmCubMgyi"
      }
    },
    {
      "cell_type": "code",
      "source": [
        "a=open(\"a.txt\",\"r\")\n",
        "print(a.readline())\n",
        "print(a.readline())\n",
        "print(a.readline()) #多餘的命令，檔案只有2行\n",
        "a.close()\n"
      ],
      "metadata": {
        "colab": {
          "base_uri": "https://localhost:8080/"
        },
        "id": "rMERR2lMMixs",
        "outputId": "ce42bf08-62ee-4415-b728-9aa104b49e58"
      },
      "execution_count": null,
      "outputs": [
        {
          "output_type": "stream",
          "name": "stdout",
          "text": [
            "This is a test1This is a test2\n",
            "\n",
            "This is a test3\n",
            "\n",
            "\n"
          ]
        }
      ]
    },
    {
      "cell_type": "code",
      "source": [
        "if os.path.isfile(\"a.txt\"):\n",
        "  a=open(\"a.txt\",\"r\")\n",
        "  for line in a:  #一行一行讀取a檔案\n",
        "   print(line.split(\" \")) #根據\" \"(空白)來切割每一行\n",
        "  a.close()\n",
        "else:\n",
        "  print(\"檔案不存在\")"
      ],
      "metadata": {
        "colab": {
          "base_uri": "https://localhost:8080/"
        },
        "id": "c0z-8aN1MvTz",
        "outputId": "e55f7b8f-3346-4230-836e-d167671b4349"
      },
      "execution_count": null,
      "outputs": [
        {
          "output_type": "stream",
          "name": "stdout",
          "text": [
            "['This', 'is', 'a', 'test1This', 'is', 'a', 'test2\\n']\n",
            "['This', 'is', 'a', 'test3\\n']\n"
          ]
        }
      ]
    },
    {
      "cell_type": "markdown",
      "source": [
        "##附加檔案\n"
      ],
      "metadata": {
        "id": "cJMh97TDNO4K"
      }
    },
    {
      "cell_type": "code",
      "source": [
        "a=open(\"a.txt\", \"a\") #在檔案的尾巴加上資料\n",
        "a.write(\"This is a test4\\n\")\n",
        "a.close()"
      ],
      "metadata": {
        "id": "jQD_T9CtNQjb"
      },
      "execution_count": null,
      "outputs": []
    },
    {
      "cell_type": "code",
      "source": [
        "a=open(\"a.txt\",\"r\")\n",
        "print(a.readlines()) #讀取所有的行\n",
        "a.close()"
      ],
      "metadata": {
        "colab": {
          "base_uri": "https://localhost:8080/"
        },
        "id": "HPpQN7ykNXEq",
        "outputId": "58d2fd6f-9aaa-468d-a4b1-e7c48fe444a5"
      },
      "execution_count": null,
      "outputs": [
        {
          "output_type": "stream",
          "name": "stdout",
          "text": [
            "['This is a test1This is a test2\\n', 'This is a test3\\n', 'This is a test4\\n']\n"
          ]
        }
      ]
    },
    {
      "cell_type": "code",
      "source": [
        "#如果需要附加在檔案最前方,要用r+參數\n",
        "a=open(\"a.txt\",\"r+\") #在檔案的最前方加上資料\n",
        "a.write(\"This is a test5\\n\")\n",
        "a.close()"
      ],
      "metadata": {
        "id": "mrQAYau6Ndoj"
      },
      "execution_count": null,
      "outputs": []
    },
    {
      "cell_type": "code",
      "source": [
        "a=open(\"a.txt\",\"r\")\n",
        "print(a.readlines()) #讀取所有的行\n",
        "a.close()"
      ],
      "metadata": {
        "colab": {
          "base_uri": "https://localhost:8080/"
        },
        "id": "Ku5lRA4gNecl",
        "outputId": "cf5f08e0-3d86-4ef6-bfef-d116ed5c50c3"
      },
      "execution_count": null,
      "outputs": [
        {
          "output_type": "stream",
          "name": "stdout",
          "text": [
            "['This is a test5\\n', 'his is a test2\\n', 'This is a test3\\n', 'This is a test4\\n']\n"
          ]
        }
      ]
    }
  ]
}